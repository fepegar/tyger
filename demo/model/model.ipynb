{
 "cells": [
  {
   "cell_type": "code",
   "execution_count": null,
   "metadata": {},
   "outputs": [],
   "source": [
    "import h5py\n",
    "import numpy as np\n",
    "from matplotlib import pyplot as plt"
   ]
  },
  {
   "cell_type": "code",
   "execution_count": null,
   "metadata": {},
   "outputs": [],
   "source": [
    "with h5py.File('out_model.h5') as model_recon:\n",
    "    model_images = np.array(model_recon['dataset']['image_0']['data']).squeeze()\n",
    "    slice_of_interest = 1\n",
    "    plt.imshow(model_images[slice_of_interest,:,:], cmap='gray')\n",
    "    "
   ]
  }
 ],
 "metadata": {
  "kernelspec": {
   "display_name": "Python 3.9.7 ('tyger')",
   "language": "python",
   "name": "python3"
  },
  "language_info": {
   "codemirror_mode": {
    "name": "ipython",
    "version": 3
   },
   "file_extension": ".py",
   "mimetype": "text/x-python",
   "name": "python",
   "nbconvert_exporter": "python",
   "pygments_lexer": "ipython3",
   "version": "3.9.7"
  },
  "orig_nbformat": 4,
  "vscode": {
   "interpreter": {
    "hash": "5ceef0be9d766a994ddd84fb4728b88c1018cbe178c761058d7d4b7bfff4d69a"
   }
  }
 },
 "nbformat": 4,
 "nbformat_minor": 2
}
